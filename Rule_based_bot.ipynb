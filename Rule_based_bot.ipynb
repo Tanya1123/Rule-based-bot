{
  "nbformat": 4,
  "nbformat_minor": 0,
  "metadata": {
    "colab": {
      "provenance": []
    },
    "kernelspec": {
      "name": "python3",
      "display_name": "Python 3"
    },
    "language_info": {
      "name": "python"
    }
  },
  "cells": [
    {
      "cell_type": "code",
      "execution_count": 5,
      "metadata": {
        "id": "A9uTgOMNjV01"
      },
      "outputs": [],
      "source": [
        "import re\n",
        "import random\n"
      ]
    },
    {
      "cell_type": "code",
      "source": [
        "class RuleBot:\n",
        "\n",
        "  ## Potential Negative Responses\n",
        "\n",
        "  negative_responses = (\"no\", \"nope\", \"nah\", \"naw\", \"not a chance\", \"sorry\")\n",
        "\n",
        "  ### Exit conversation Keywords\n",
        "\n",
        "  exit_commands = (\"quit\", \"pause\", \"exit\", \"goodbye\", \"bye\", \"later\")\n",
        "\n",
        "  ## Random starter question\n",
        "\n",
        "  random_questions = (\n",
        "\n",
        "  \"Why are you here?\", \"Are there many humans like you?\",\n",
        "\n",
        "  \"What do you consume for sustenance?\",\n",
        "\n",
        "  \"Is there intelligent life on this planet?\",\n",
        "\n",
        "  \"Does Earth have a leader?\",\n",
        "\n",
        "  \"What planets have you visited?\",\n",
        "\n",
        "  \"What technology do you have on this planet?\"\n",
        "  )\n",
        "\n",
        "  def __init__(self):\n",
        "\n",
        "    self.alienbabble = {'describe_planet_intent': r'.*\\syour planet.*', 'answer_why_intent': r'why*\\s*.'}\n",
        "\n",
        "  def greet(self):\n",
        "\n",
        "    self.name = input(\"What is your name?\\n\")\n",
        "\n",
        "    will_help = input(f'Hi {self.name}, I an Rule-Bot. Will you help me learn about your planet?\\n')\n",
        "\n",
        "    if will_help in self.negative_responses:\n",
        "\n",
        "      print(\"Ok, have a nice Earth day!\")\n",
        "\n",
        "      return\n",
        "\n",
        "    self.chat()\n",
        "\n",
        "  def make_exit(self, reply):\n",
        "\n",
        "    for command in self.exit_commands:\n",
        "\n",
        "      if reply == command:\n",
        "\n",
        "        print(\"Okay, have a nice Earth day!\")\n",
        "\n",
        "        return True\n",
        "\n",
        "  def chat(self):\n",
        "\n",
        "    reply = input(random.choice(self.random_questions)).lower()\n",
        "\n",
        "    while not self.make_exit(reply):\n",
        "\n",
        "      reply = input(self.match_reply(reply))\n",
        "\n",
        "  def match_reply(self, reply):\n",
        "\n",
        "    for key, value in self.alienbabble.items():\n",
        "\n",
        "      intent = key\n",
        "\n",
        "      regex_pattern = value\n",
        "\n",
        "      found_match = re.match(regex_pattern, reply)\n",
        "      print(found_match)\n",
        "\n",
        "      if found_match and intent==\"describe_planet_intent\":\n",
        "\n",
        "        return self.describe_planet_intent()\n",
        "\n",
        "      elif found_match and intent == \"answer_why_intent\":\n",
        "\n",
        "        return self.answer_why_intent()\n",
        "\n",
        "    if not found_match:\n",
        "\n",
        "      return self.no_match_intent()\n",
        "\n",
        "  def describe_planet_intent(self):\n",
        "\n",
        "    responses = (\"My planet is a utopia of diverse organisms and species.\\n\", \"I am from Opidipus, the capital of the Wayward Galaxies.\\n\")\n",
        "\n",
        "    return random.choice(responses)\n",
        "\n",
        "  def answer_why_intent(self):\n",
        "\n",
        "    responses = (\"I come in peace\\n\", \"I am here to collect data on your planet and its inhabitants\\n\", \"I heard the coffee is good\\n\")\n",
        "\n",
        "    return random.choice(responses)\n",
        "\n",
        "  def no_match_intent(self):\n",
        "\n",
        "    responses = (\"Please tell me more.\\n\", \"Tell me morel\\n\", \"Why do you say that\\n\", \"I see. Can you elaborate?\\n\",\n",
        "\n",
        "    \"Interesting. Can you tell me more?\\n\", \"I see. How do you think?\\n\", \"Why?\\n\",\n",
        "\n",
        "    \"How do you think I feel when you say that?\\n\")\n",
        "\n",
        "    return random.choice(responses)\n",
        "\n"
      ],
      "metadata": {
        "id": "1QqCPoocjp8s"
      },
      "execution_count": 14,
      "outputs": []
    },
    {
      "cell_type": "code",
      "source": [
        "AlienBot = RuleBot()\n",
        "AlienBot.greet()"
      ],
      "metadata": {
        "colab": {
          "base_uri": "https://localhost:8080/"
        },
        "id": "1pDBZe-U4sRP",
        "outputId": "edcf874e-68a9-4405-a667-bee3e7f1d44d"
      },
      "execution_count": 15,
      "outputs": [
        {
          "output_type": "stream",
          "name": "stdout",
          "text": [
            "What is your name?\n",
            "t\n",
            "Hi t, I an Rule-Bot. Will you help me learn about your planet?\n",
            "nope\n",
            "Ok, have a nice Earth day!\n"
          ]
        }
      ]
    }
  ]
}